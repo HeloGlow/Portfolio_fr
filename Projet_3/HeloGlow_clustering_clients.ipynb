{
 "cells": [
  {
   "cell_type": "markdown",
   "metadata": {},
   "source": [
    "## CONTEXTE\n",
    "\n",
    "HéloGlow va bientôt ouvrir un nouveau point de vente dans un centre commercial.\n",
    "Nous avons accès à des données sur les clients de ce centre commercial (un dataset Kaggle disponible ici : https://www.kaggle.com/datasets/abdallahwagih/mall-customers-segmentation).\n",
    "\n",
    "Variables : \n",
    "- **CustomerID** : Un identifiant unique pour chaque client (integer).\n",
    "- **Gender** : Le genre du client (Male/Female).\n",
    "- **Age** : L'âge du client (integer).\n",
    "- **Annual Income (k$)** : Le revenu annuel du client en milliers de dollars (integer).\n",
    "- **Spending Score (1-100)** : Un score basé sur le comportement et les habitudes de dépenses du client (integer). Plus il est élevé, plus le client est un gros acheteur.\n",
    "\n",
    "Nous souhaitons créer des clusters de clients afin de mieux comprendre notre future potentielle clientèle.\n",
    "Ainsi, nous serons en mesure d'optimiser l’assortiment, d'activer les bons leviers marketing et de personnaliser la communication auprès des cibles."
   ]
  },
  {
   "cell_type": "code",
   "execution_count": 1,
   "metadata": {},
   "outputs": [],
   "source": [
    "import matplotlib.pyplot as plt\n",
    "import pandas as pd\n",
    "import numpy as np\n",
    "import os"
   ]
  },
  {
   "cell_type": "markdown",
   "metadata": {},
   "source": [
    "## 1) VÉRIFICATION DES DONNÉES"
   ]
  },
  {
   "cell_type": "code",
   "execution_count": 2,
   "metadata": {},
   "outputs": [],
   "source": [
    "data = pd.read_csv('Mall_Customers.csv',header=0,index_col=False,sep=',',\n",
    "names = [\"CUSTOMER_ID\",\"GENDER\",\"AGE\",\"ANNUAL_INCOME\",\"SPENDING_SCORE\"])\n",
    "# On renomme les colonnes pour enlever les espaces et les caractères spéciaux"
   ]
  },
  {
   "cell_type": "code",
   "execution_count": 3,
   "metadata": {},
   "outputs": [
    {
     "data": {
      "text/html": [
       "<div>\n",
       "<style scoped>\n",
       "    .dataframe tbody tr th:only-of-type {\n",
       "        vertical-align: middle;\n",
       "    }\n",
       "\n",
       "    .dataframe tbody tr th {\n",
       "        vertical-align: top;\n",
       "    }\n",
       "\n",
       "    .dataframe thead th {\n",
       "        text-align: right;\n",
       "    }\n",
       "</style>\n",
       "<table border=\"1\" class=\"dataframe\">\n",
       "  <thead>\n",
       "    <tr style=\"text-align: right;\">\n",
       "      <th></th>\n",
       "      <th>CUSTOMER_ID</th>\n",
       "      <th>GENDER</th>\n",
       "      <th>AGE</th>\n",
       "      <th>ANNUAL_INCOME</th>\n",
       "      <th>SPENDING_SCORE</th>\n",
       "    </tr>\n",
       "  </thead>\n",
       "  <tbody>\n",
       "    <tr>\n",
       "      <th>0</th>\n",
       "      <td>1</td>\n",
       "      <td>Male</td>\n",
       "      <td>19</td>\n",
       "      <td>15</td>\n",
       "      <td>39</td>\n",
       "    </tr>\n",
       "    <tr>\n",
       "      <th>1</th>\n",
       "      <td>2</td>\n",
       "      <td>Male</td>\n",
       "      <td>21</td>\n",
       "      <td>15</td>\n",
       "      <td>81</td>\n",
       "    </tr>\n",
       "    <tr>\n",
       "      <th>2</th>\n",
       "      <td>3</td>\n",
       "      <td>Female</td>\n",
       "      <td>20</td>\n",
       "      <td>16</td>\n",
       "      <td>6</td>\n",
       "    </tr>\n",
       "    <tr>\n",
       "      <th>3</th>\n",
       "      <td>4</td>\n",
       "      <td>Female</td>\n",
       "      <td>23</td>\n",
       "      <td>16</td>\n",
       "      <td>77</td>\n",
       "    </tr>\n",
       "    <tr>\n",
       "      <th>4</th>\n",
       "      <td>5</td>\n",
       "      <td>Female</td>\n",
       "      <td>31</td>\n",
       "      <td>17</td>\n",
       "      <td>40</td>\n",
       "    </tr>\n",
       "  </tbody>\n",
       "</table>\n",
       "</div>"
      ],
      "text/plain": [
       "   CUSTOMER_ID  GENDER  AGE  ANNUAL_INCOME  SPENDING_SCORE\n",
       "0            1    Male   19             15              39\n",
       "1            2    Male   21             15              81\n",
       "2            3  Female   20             16               6\n",
       "3            4  Female   23             16              77\n",
       "4            5  Female   31             17              40"
      ]
     },
     "execution_count": 3,
     "metadata": {},
     "output_type": "execute_result"
    }
   ],
   "source": [
    "data.head()\n",
    "# Aperçu des données"
   ]
  },
  {
   "cell_type": "code",
   "execution_count": 4,
   "metadata": {},
   "outputs": [
    {
     "data": {
      "text/plain": [
       "(200, 5)"
      ]
     },
     "execution_count": 4,
     "metadata": {},
     "output_type": "execute_result"
    }
   ],
   "source": [
    "data.shape\n",
    "# Pour connaître le nombre de lignes et de colonnes"
   ]
  },
  {
   "cell_type": "code",
   "execution_count": 5,
   "metadata": {},
   "outputs": [
    {
     "data": {
      "text/plain": [
       "CUSTOMER_ID        int64\n",
       "GENDER            object\n",
       "AGE                int64\n",
       "ANNUAL_INCOME      int64\n",
       "SPENDING_SCORE     int64\n",
       "dtype: object"
      ]
     },
     "execution_count": 5,
     "metadata": {},
     "output_type": "execute_result"
    }
   ],
   "source": [
    "data.dtypes\n",
    "# Pour connaître le type de données de chaque colonne"
   ]
  },
  {
   "cell_type": "code",
   "execution_count": 6,
   "metadata": {},
   "outputs": [
    {
     "data": {
      "text/html": [
       "<div>\n",
       "<style scoped>\n",
       "    .dataframe tbody tr th:only-of-type {\n",
       "        vertical-align: middle;\n",
       "    }\n",
       "\n",
       "    .dataframe tbody tr th {\n",
       "        vertical-align: top;\n",
       "    }\n",
       "\n",
       "    .dataframe thead th {\n",
       "        text-align: right;\n",
       "    }\n",
       "</style>\n",
       "<table border=\"1\" class=\"dataframe\">\n",
       "  <thead>\n",
       "    <tr style=\"text-align: right;\">\n",
       "      <th></th>\n",
       "      <th>CUSTOMER_ID</th>\n",
       "      <th>GENDER</th>\n",
       "      <th>AGE</th>\n",
       "      <th>ANNUAL_INCOME</th>\n",
       "      <th>SPENDING_SCORE</th>\n",
       "    </tr>\n",
       "  </thead>\n",
       "  <tbody>\n",
       "    <tr>\n",
       "      <th>count</th>\n",
       "      <td>200.000000</td>\n",
       "      <td>200</td>\n",
       "      <td>200.000000</td>\n",
       "      <td>200.000000</td>\n",
       "      <td>200.000000</td>\n",
       "    </tr>\n",
       "    <tr>\n",
       "      <th>unique</th>\n",
       "      <td>NaN</td>\n",
       "      <td>2</td>\n",
       "      <td>NaN</td>\n",
       "      <td>NaN</td>\n",
       "      <td>NaN</td>\n",
       "    </tr>\n",
       "    <tr>\n",
       "      <th>top</th>\n",
       "      <td>NaN</td>\n",
       "      <td>Female</td>\n",
       "      <td>NaN</td>\n",
       "      <td>NaN</td>\n",
       "      <td>NaN</td>\n",
       "    </tr>\n",
       "    <tr>\n",
       "      <th>freq</th>\n",
       "      <td>NaN</td>\n",
       "      <td>112</td>\n",
       "      <td>NaN</td>\n",
       "      <td>NaN</td>\n",
       "      <td>NaN</td>\n",
       "    </tr>\n",
       "    <tr>\n",
       "      <th>mean</th>\n",
       "      <td>100.500000</td>\n",
       "      <td>NaN</td>\n",
       "      <td>38.850000</td>\n",
       "      <td>60.560000</td>\n",
       "      <td>50.200000</td>\n",
       "    </tr>\n",
       "    <tr>\n",
       "      <th>std</th>\n",
       "      <td>57.879185</td>\n",
       "      <td>NaN</td>\n",
       "      <td>13.969007</td>\n",
       "      <td>26.264721</td>\n",
       "      <td>25.823522</td>\n",
       "    </tr>\n",
       "    <tr>\n",
       "      <th>min</th>\n",
       "      <td>1.000000</td>\n",
       "      <td>NaN</td>\n",
       "      <td>18.000000</td>\n",
       "      <td>15.000000</td>\n",
       "      <td>1.000000</td>\n",
       "    </tr>\n",
       "    <tr>\n",
       "      <th>25%</th>\n",
       "      <td>50.750000</td>\n",
       "      <td>NaN</td>\n",
       "      <td>28.750000</td>\n",
       "      <td>41.500000</td>\n",
       "      <td>34.750000</td>\n",
       "    </tr>\n",
       "    <tr>\n",
       "      <th>50%</th>\n",
       "      <td>100.500000</td>\n",
       "      <td>NaN</td>\n",
       "      <td>36.000000</td>\n",
       "      <td>61.500000</td>\n",
       "      <td>50.000000</td>\n",
       "    </tr>\n",
       "    <tr>\n",
       "      <th>75%</th>\n",
       "      <td>150.250000</td>\n",
       "      <td>NaN</td>\n",
       "      <td>49.000000</td>\n",
       "      <td>78.000000</td>\n",
       "      <td>73.000000</td>\n",
       "    </tr>\n",
       "    <tr>\n",
       "      <th>max</th>\n",
       "      <td>200.000000</td>\n",
       "      <td>NaN</td>\n",
       "      <td>70.000000</td>\n",
       "      <td>137.000000</td>\n",
       "      <td>99.000000</td>\n",
       "    </tr>\n",
       "  </tbody>\n",
       "</table>\n",
       "</div>"
      ],
      "text/plain": [
       "        CUSTOMER_ID  GENDER         AGE  ANNUAL_INCOME  SPENDING_SCORE\n",
       "count    200.000000     200  200.000000     200.000000      200.000000\n",
       "unique          NaN       2         NaN            NaN             NaN\n",
       "top             NaN  Female         NaN            NaN             NaN\n",
       "freq            NaN     112         NaN            NaN             NaN\n",
       "mean     100.500000     NaN   38.850000      60.560000       50.200000\n",
       "std       57.879185     NaN   13.969007      26.264721       25.823522\n",
       "min        1.000000     NaN   18.000000      15.000000        1.000000\n",
       "25%       50.750000     NaN   28.750000      41.500000       34.750000\n",
       "50%      100.500000     NaN   36.000000      61.500000       50.000000\n",
       "75%      150.250000     NaN   49.000000      78.000000       73.000000\n",
       "max      200.000000     NaN   70.000000     137.000000       99.000000"
      ]
     },
     "execution_count": 6,
     "metadata": {},
     "output_type": "execute_result"
    }
   ],
   "source": [
    "stats = data.describe(include=\"all\")\n",
    "stats\n",
    "# Pour avoir un résumé statistique du dataframe"
   ]
  },
  {
   "cell_type": "markdown",
   "metadata": {},
   "source": [
    "On voit qu'il n'y a pas de données manquantes.\n",
    "\n",
    "Les données sont cohérentes :\n",
    "- Le genre du client prend bien deux modalités.\n",
    "- L'âge s'étend de 18 à 70 ans, avec une moyenne à 39 ans.\n",
    "- Les montants de revenu annuel sont vraisemblables."
   ]
  },
  {
   "cell_type": "code",
   "execution_count": 7,
   "metadata": {},
   "outputs": [
    {
     "data": {
      "text/plain": [
       "CUSTOMER_ID    200\n",
       "dtype: int64"
      ]
     },
     "execution_count": 7,
     "metadata": {},
     "output_type": "execute_result"
    }
   ],
   "source": [
    "data[['CUSTOMER_ID']].nunique()\n",
    "# On vérifie qu'il n'y a pas de client en doublon"
   ]
  },
  {
   "cell_type": "markdown",
   "metadata": {},
   "source": [
    "Il n'y a pas de doublon dans les clients puisque le nombre de valeurs uniques est égal au nombre total de lignes."
   ]
  },
  {
   "cell_type": "markdown",
   "metadata": {},
   "source": [
    "## 2) PRÉPARATION DES DONNÉES"
   ]
  },
  {
   "cell_type": "markdown",
   "metadata": {},
   "source": [
    "GENDER est une variable catégorielle, il faut la transformer en colonne numérique."
   ]
  },
  {
   "cell_type": "code",
   "execution_count": 8,
   "metadata": {},
   "outputs": [],
   "source": [
    "# On crée la colonne FEMALE qui prend la valeur 1 si le client est une femme et sinon prend la valeur 0.\n",
    "data['FEMALE'] = data['GENDER'].apply(lambda x: 1 if x == 'Female' else 0)\n",
    "# On supprime la colonne GENDER\n",
    "data.drop('GENDER', axis=1, inplace=True)"
   ]
  },
  {
   "cell_type": "markdown",
   "metadata": {},
   "source": [
    "On veut créer des tranches de Spending score."
   ]
  },
  {
   "cell_type": "code",
   "execution_count": 9,
   "metadata": {},
   "outputs": [
    {
     "data": {
      "text/plain": [
       "count       200\n",
       "unique        3\n",
       "top       33-66\n",
       "freq         93\n",
       "Name: SPENDING_SCORE_BRACKET, dtype: object"
      ]
     },
     "execution_count": 9,
     "metadata": {},
     "output_type": "execute_result"
    }
   ],
   "source": [
    "data[\"SPENDING_SCORE_BRACKET\"] = '0-33'\n",
    "data.loc[data['SPENDING_SCORE'] >= 33, 'SPENDING_SCORE_BRACKET'] = '33-66'\n",
    "data.loc[data['SPENDING_SCORE'] >= 66, 'SPENDING_SCORE_BRACKET'] = '66-100'\n",
    "data['SPENDING_SCORE_BRACKET'] = data['SPENDING_SCORE_BRACKET'].astype('category')\n",
    "data['SPENDING_SCORE_BRACKET'].describe()"
   ]
  },
  {
   "cell_type": "code",
   "execution_count": 10,
   "metadata": {},
   "outputs": [
    {
     "data": {
      "text/html": [
       "<div>\n",
       "<style scoped>\n",
       "    .dataframe tbody tr th:only-of-type {\n",
       "        vertical-align: middle;\n",
       "    }\n",
       "\n",
       "    .dataframe tbody tr th {\n",
       "        vertical-align: top;\n",
       "    }\n",
       "\n",
       "    .dataframe thead th {\n",
       "        text-align: right;\n",
       "    }\n",
       "</style>\n",
       "<table border=\"1\" class=\"dataframe\">\n",
       "  <thead>\n",
       "    <tr style=\"text-align: right;\">\n",
       "      <th></th>\n",
       "      <th>CUSTOMER_ID</th>\n",
       "      <th>AGE</th>\n",
       "      <th>ANNUAL_INCOME</th>\n",
       "      <th>SPENDING_SCORE</th>\n",
       "      <th>FEMALE</th>\n",
       "      <th>SPENDING_SCORE_BRACKET</th>\n",
       "    </tr>\n",
       "  </thead>\n",
       "  <tbody>\n",
       "    <tr>\n",
       "      <th>0</th>\n",
       "      <td>1</td>\n",
       "      <td>19</td>\n",
       "      <td>15</td>\n",
       "      <td>39</td>\n",
       "      <td>0</td>\n",
       "      <td>33-66</td>\n",
       "    </tr>\n",
       "    <tr>\n",
       "      <th>1</th>\n",
       "      <td>2</td>\n",
       "      <td>21</td>\n",
       "      <td>15</td>\n",
       "      <td>81</td>\n",
       "      <td>0</td>\n",
       "      <td>66-100</td>\n",
       "    </tr>\n",
       "    <tr>\n",
       "      <th>2</th>\n",
       "      <td>3</td>\n",
       "      <td>20</td>\n",
       "      <td>16</td>\n",
       "      <td>6</td>\n",
       "      <td>1</td>\n",
       "      <td>0-33</td>\n",
       "    </tr>\n",
       "    <tr>\n",
       "      <th>3</th>\n",
       "      <td>4</td>\n",
       "      <td>23</td>\n",
       "      <td>16</td>\n",
       "      <td>77</td>\n",
       "      <td>1</td>\n",
       "      <td>66-100</td>\n",
       "    </tr>\n",
       "    <tr>\n",
       "      <th>4</th>\n",
       "      <td>5</td>\n",
       "      <td>31</td>\n",
       "      <td>17</td>\n",
       "      <td>40</td>\n",
       "      <td>1</td>\n",
       "      <td>33-66</td>\n",
       "    </tr>\n",
       "  </tbody>\n",
       "</table>\n",
       "</div>"
      ],
      "text/plain": [
       "   CUSTOMER_ID  AGE  ANNUAL_INCOME  SPENDING_SCORE  FEMALE  \\\n",
       "0            1   19             15              39       0   \n",
       "1            2   21             15              81       0   \n",
       "2            3   20             16               6       1   \n",
       "3            4   23             16              77       1   \n",
       "4            5   31             17              40       1   \n",
       "\n",
       "  SPENDING_SCORE_BRACKET  \n",
       "0                  33-66  \n",
       "1                 66-100  \n",
       "2                   0-33  \n",
       "3                 66-100  \n",
       "4                  33-66  "
      ]
     },
     "execution_count": 10,
     "metadata": {},
     "output_type": "execute_result"
    }
   ],
   "source": [
    "data.head()"
   ]
  },
  {
   "cell_type": "markdown",
   "metadata": {},
   "source": [
    "## 3) RÉDUCTION DE DIMENSIONS AVEC L'ACP"
   ]
  },
  {
   "cell_type": "code",
   "execution_count": 11,
   "metadata": {},
   "outputs": [],
   "source": [
    "from sklearn.preprocessing import StandardScaler\n",
    "from sklearn.decomposition import PCA"
   ]
  },
  {
   "cell_type": "code",
   "execution_count": 12,
   "metadata": {},
   "outputs": [],
   "source": [
    "# CUSTOMER_ID et SPENDING_SCORE_BRACKET ne sont pas des variables que l'on va projeter\n",
    "X = data.drop([\"CUSTOMER_ID\",\"SPENDING_SCORE_BRACKET\"],axis=1)"
   ]
  },
  {
   "cell_type": "code",
   "execution_count": 13,
   "metadata": {},
   "outputs": [],
   "source": [
    "# On écrase et on standardise\n",
    "X = StandardScaler().fit_transform(X)"
   ]
  },
  {
   "cell_type": "code",
   "execution_count": 14,
   "metadata": {},
   "outputs": [],
   "source": [
    "# Calcul ACP avec autant de composants que de colonnes (avant de limiter le nombre de composants càd dimensions)\n",
    "pca_data = PCA(n_components=X.shape[1])\n",
    "pca_data.fit(X)\n",
    "CP_data = pca_data.transform(X)\n",
    "# On projette les clients sur les nouvelles dimensions"
   ]
  },
  {
   "cell_type": "code",
   "execution_count": 15,
   "metadata": {},
   "outputs": [
    {
     "data": {
      "text/plain": [
       "array([-0.40638272, -0.52071363, -2.07252663,  1.33552903])"
      ]
     },
     "execution_count": 15,
     "metadata": {},
     "output_type": "execute_result"
    }
   ],
   "source": [
    "# Les nouveaux axes pour le premier client\n",
    "CP_data[0]"
   ]
  },
  {
   "cell_type": "code",
   "execution_count": 16,
   "metadata": {},
   "outputs": [
    {
     "name": "stdout",
     "output_type": "stream",
     "text": [
      "[ 33.69  59.92  83.18 100.  ]\n"
     ]
    }
   ],
   "source": [
    "print(np.cumsum(np.round(pca_data.explained_variance_ratio_, decimals=4)*100))"
   ]
  },
  {
   "cell_type": "markdown",
   "metadata": {},
   "source": [
    "2 composantes expliquent 60% de la variance des données."
   ]
  },
  {
   "cell_type": "code",
   "execution_count": 17,
   "metadata": {},
   "outputs": [
    {
     "data": {
      "text/plain": [
       "[<matplotlib.lines.Line2D at 0x7fc21671f160>]"
      ]
     },
     "execution_count": 17,
     "metadata": {},
     "output_type": "execute_result"
    },
    {
     "data": {
      "image/png": "[encoded data removed]",
      "text/plain": [
       "<Figure size 432x288 with 1 Axes>"
      ]
     },
     "metadata": {
      "needs_background": "light"
     },
     "output_type": "display_data"
    },
    {
     "data": {
      "image/png": "[encoded data removed]",
      "text/plain": [
       "<Figure size 432x288 with 1 Axes>"
      ]
     },
     "metadata": {
      "needs_background": "light"
     },
     "output_type": "display_data"
    }
   ],
   "source": [
    "plt.plot(np.cumsum(np.round(pca_data.explained_variance_ratio_, decimals=4)*100))\n",
    "plt.figure()\n",
    "plt.plot(np.round(pca_data.explained_variance_ratio_, decimals=1))\n",
    "# arrondi à 1 pour avoir une courbe \"à paliers\""
   ]
  },
  {
   "cell_type": "markdown",
   "metadata": {},
   "source": [
    "Le Scree plot permet de déterminer le nombre d'axes à retenir.\n",
    "\n",
    "Le choix du nombre d'axes à retenir est un compromis entre :\n",
    "- La réduction de la dimensionnalité : réduire le nombre de variables pour simplifier l'analyse.\n",
    "- La conservation de l'information : ne pas perdre trop d'information en éliminant des axes.\n",
    "\n",
    "Ici, le \"coude\" se situe autour du deuxième axe, ce qui signifie que les deux premiers axes expliquent une part importante de la variance et doivent donc être conservés."
   ]
  },
  {
   "cell_type": "code",
   "execution_count": 18,
   "metadata": {},
   "outputs": [
    {
     "data": {
      "text/html": [
       "<div>\n",
       "<style scoped>\n",
       "    .dataframe tbody tr th:only-of-type {\n",
       "        vertical-align: middle;\n",
       "    }\n",
       "\n",
       "    .dataframe tbody tr th {\n",
       "        vertical-align: top;\n",
       "    }\n",
       "\n",
       "    .dataframe thead th {\n",
       "        text-align: right;\n",
       "    }\n",
       "</style>\n",
       "<table border=\"1\" class=\"dataframe\">\n",
       "  <thead>\n",
       "    <tr style=\"text-align: right;\">\n",
       "      <th></th>\n",
       "      <th>CP1</th>\n",
       "      <th>CP2</th>\n",
       "      <th>SPENDING_SCORE</th>\n",
       "      <th>SPENDING_SCORE_BRACKET</th>\n",
       "    </tr>\n",
       "  </thead>\n",
       "  <tbody>\n",
       "    <tr>\n",
       "      <th>0</th>\n",
       "      <td>-0.406383</td>\n",
       "      <td>-0.520714</td>\n",
       "      <td>39</td>\n",
       "      <td>33-66</td>\n",
       "    </tr>\n",
       "    <tr>\n",
       "      <th>1</th>\n",
       "      <td>-1.427673</td>\n",
       "      <td>-0.367310</td>\n",
       "      <td>81</td>\n",
       "      <td>66-100</td>\n",
       "    </tr>\n",
       "    <tr>\n",
       "      <th>2</th>\n",
       "      <td>0.050761</td>\n",
       "      <td>-1.894068</td>\n",
       "      <td>6</td>\n",
       "      <td>0-33</td>\n",
       "    </tr>\n",
       "    <tr>\n",
       "      <th>3</th>\n",
       "      <td>-1.694513</td>\n",
       "      <td>-1.631908</td>\n",
       "      <td>77</td>\n",
       "      <td>66-100</td>\n",
       "    </tr>\n",
       "    <tr>\n",
       "      <th>4</th>\n",
       "      <td>-0.313108</td>\n",
       "      <td>-1.810483</td>\n",
       "      <td>40</td>\n",
       "      <td>33-66</td>\n",
       "    </tr>\n",
       "  </tbody>\n",
       "</table>\n",
       "</div>"
      ],
      "text/plain": [
       "        CP1       CP2  SPENDING_SCORE SPENDING_SCORE_BRACKET\n",
       "0 -0.406383 -0.520714              39                  33-66\n",
       "1 -1.427673 -0.367310              81                 66-100\n",
       "2  0.050761 -1.894068               6                   0-33\n",
       "3 -1.694513 -1.631908              77                 66-100\n",
       "4 -0.313108 -1.810483              40                  33-66"
      ]
     },
     "execution_count": 18,
     "metadata": {},
     "output_type": "execute_result"
    }
   ],
   "source": [
    "# On conserve uniquement 2 axes et on fait le rapprochement avec les tranches de Spending score\n",
    "finalDf = pd.concat([pd.DataFrame(CP_data[:,0:2], columns = ['CP1','CP2']), data[[\"SPENDING_SCORE\",'SPENDING_SCORE_BRACKET']]], axis = 1)\n",
    "finalDf.head()"
   ]
  },
  {
   "cell_type": "code",
   "execution_count": 19,
   "metadata": {},
   "outputs": [],
   "source": [
    "import seaborn as sns"
   ]
  },
  {
   "cell_type": "code",
   "execution_count": 20,
   "metadata": {},
   "outputs": [
    {
     "data": {
      "text/plain": [
       "<seaborn.axisgrid.PairGrid at 0x7fc216c74e20>"
      ]
     },
     "execution_count": 20,
     "metadata": {},
     "output_type": "execute_result"
    },
    {
     "data": {
      "image/png": "[encoded data removed]",
      "text/plain": [
       "<Figure size 509.625x360 with 1 Axes>"
      ]
     },
     "metadata": {
      "needs_background": "light"
     },
     "output_type": "display_data"
    }
   ],
   "source": [
    "# On crée un scatter plot coloré en fonction de SPENDING_SCORE_BRACKET\n",
    "sns.pairplot(x_vars='CP1', y_vars='CP2', data=finalDf, hue='SPENDING_SCORE_BRACKET', height=5)"
   ]
  },
  {
   "cell_type": "markdown",
   "metadata": {},
   "source": [
    "On veut pouvoir interpréter les axes."
   ]
  },
  {
   "cell_type": "code",
   "execution_count": 21,
   "metadata": {},
   "outputs": [
    {
     "data": {
      "text/plain": [
       "<AxesSubplot:>"
      ]
     },
     "execution_count": 21,
     "metadata": {},
     "output_type": "execute_result"
    },
    {
     "data": {
      "image/png": "[encoded data removed]",
      "text/plain": [
       "<Figure size 432x288 with 2 Axes>"
      ]
     },
     "metadata": {
      "needs_background": "light"
     },
     "output_type": "display_data"
    }
   ],
   "source": [
    "analyse = pd.concat([pd.DataFrame(CP_data[:,0:2], columns = ['CP1', 'CP2']), data[[\"FEMALE\",\"AGE\",\"ANNUAL_INCOME\",\"SPENDING_SCORE\"]]], axis = 1)\n",
    "corr = analyse.corr().loc[[\"FEMALE\",\"AGE\",\"ANNUAL_INCOME\",\"SPENDING_SCORE\"],[\"CP1\",\"CP2\"]]\n",
    "plt.figure()\n",
    "sns.heatmap(corr, xticklabels=corr.columns.values, yticklabels=corr.index.values)"
   ]
  },
  {
   "cell_type": "code",
   "execution_count": 22,
   "metadata": {},
   "outputs": [
    {
     "data": {
      "text/html": [
       "<div>\n",
       "<style scoped>\n",
       "    .dataframe tbody tr th:only-of-type {\n",
       "        vertical-align: middle;\n",
       "    }\n",
       "\n",
       "    .dataframe tbody tr th {\n",
       "        vertical-align: top;\n",
       "    }\n",
       "\n",
       "    .dataframe thead th {\n",
       "        text-align: right;\n",
       "    }\n",
       "</style>\n",
       "<table border=\"1\" class=\"dataframe\">\n",
       "  <thead>\n",
       "    <tr style=\"text-align: right;\">\n",
       "      <th></th>\n",
       "      <th>CP1</th>\n",
       "      <th>CP2</th>\n",
       "    </tr>\n",
       "  </thead>\n",
       "  <tbody>\n",
       "    <tr>\n",
       "      <th>FEMALE</th>\n",
       "      <td>-0.271992</td>\n",
       "      <td>-0.642130</td>\n",
       "    </tr>\n",
       "    <tr>\n",
       "      <th>AGE</th>\n",
       "      <td>0.798558</td>\n",
       "      <td>-0.106211</td>\n",
       "    </tr>\n",
       "    <tr>\n",
       "      <th>ANNUAL_INCOME</th>\n",
       "      <td>-0.007061</td>\n",
       "      <td>0.783861</td>\n",
       "    </tr>\n",
       "    <tr>\n",
       "      <th>SPENDING_SCORE</th>\n",
       "      <td>-0.797420</td>\n",
       "      <td>0.105721</td>\n",
       "    </tr>\n",
       "  </tbody>\n",
       "</table>\n",
       "</div>"
      ],
      "text/plain": [
       "                     CP1       CP2\n",
       "FEMALE         -0.271992 -0.642130\n",
       "AGE             0.798558 -0.106211\n",
       "ANNUAL_INCOME  -0.007061  0.783861\n",
       "SPENDING_SCORE -0.797420  0.105721"
      ]
     },
     "execution_count": 22,
     "metadata": {},
     "output_type": "execute_result"
    }
   ],
   "source": [
    "corr"
   ]
  },
  {
   "cell_type": "markdown",
   "metadata": {},
   "source": [
    "CP1 (première composante principale) :\n",
    "- L'âge est fortement corrélé positivement avec CP1, c'est une variable importante pour définir cet axe.\n",
    "- Le score de dépenses est fortement corrélé négativement avec CP1.\n",
    "\n",
    "Cela indique que cet axe oppose les individus ayant un âge élevé à ceux ayant un score de dépenses élevé.\n",
    "\n",
    "CP2 (deuxième composante principale) :\n",
    "- Le revenu annuel est fortement corrélé positivement avec CP2.\n",
    "- Le fait d'être une femme est corrélé négativement avec CP2.\n",
    "\n",
    "CP2 peut donc refléter une opposition entre des femmes et des clients avec un revenu annuel élevé."
   ]
  },
  {
   "cell_type": "markdown",
   "metadata": {},
   "source": [
    "## 4) CLUSTERING MIXTE"
   ]
  },
  {
   "cell_type": "code",
   "execution_count": 23,
   "metadata": {},
   "outputs": [],
   "source": [
    "from sklearn.cluster import KMeans\n",
    "from sklearn import metrics\n",
    "from scipy.spatial.distance import cdist\n",
    "from scipy import cluster\n",
    "from sklearn.cluster import AgglomerativeClustering"
   ]
  },
  {
   "cell_type": "code",
   "execution_count": 24,
   "metadata": {},
   "outputs": [],
   "source": [
    "# On fait une K-means avec de nombreux clusters et on récupère les coordonnées des centroïdes\n",
    "# Pour le nombre idéal de clusters, une bonne pratique est de choisir n^(1/3)(limite de Wong)\n",
    "k_means_cent = KMeans(n_clusters = round(len(X)**(1/3)), random_state = 2016).fit(CP_data[:,0:2])"
   ]
  },
  {
   "cell_type": "code",
   "execution_count": 25,
   "metadata": {},
   "outputs": [
    {
     "name": "stdout",
     "output_type": "stream",
     "text": [
      "[[-1.45816434 -1.27278647]\n",
      " [ 1.52404289 -0.73756539]\n",
      " [-1.14541787 -0.01586025]\n",
      " [ 1.09506491  0.81618921]\n",
      " [ 0.22959783 -0.95859854]\n",
      " [-0.84419574  1.37182571]]\n"
     ]
    }
   ],
   "source": [
    "# Barycentres des clusters issus de la partition K-means\n",
    "centroides = k_means_cent.cluster_centers_\n",
    "print(centroides)"
   ]
  },
  {
   "cell_type": "code",
   "execution_count": 26,
   "metadata": {},
   "outputs": [],
   "source": [
    "finalDf['K_means_cluster'] = k_means_cent.labels_"
   ]
  },
  {
   "cell_type": "code",
   "execution_count": 27,
   "metadata": {},
   "outputs": [
    {
     "data": {
      "text/html": [
       "<div>\n",
       "<style scoped>\n",
       "    .dataframe tbody tr th:only-of-type {\n",
       "        vertical-align: middle;\n",
       "    }\n",
       "\n",
       "    .dataframe tbody tr th {\n",
       "        vertical-align: top;\n",
       "    }\n",
       "\n",
       "    .dataframe thead th {\n",
       "        text-align: right;\n",
       "    }\n",
       "</style>\n",
       "<table border=\"1\" class=\"dataframe\">\n",
       "  <thead>\n",
       "    <tr style=\"text-align: right;\">\n",
       "      <th>SPENDING_SCORE_BRACKET</th>\n",
       "      <th>0-33</th>\n",
       "      <th>33-66</th>\n",
       "      <th>66-100</th>\n",
       "    </tr>\n",
       "    <tr>\n",
       "      <th>K_means_cluster</th>\n",
       "      <th></th>\n",
       "      <th></th>\n",
       "      <th></th>\n",
       "    </tr>\n",
       "  </thead>\n",
       "  <tbody>\n",
       "    <tr>\n",
       "      <th>0</th>\n",
       "      <td>0</td>\n",
       "      <td>5</td>\n",
       "      <td>12</td>\n",
       "    </tr>\n",
       "    <tr>\n",
       "      <th>1</th>\n",
       "      <td>15</td>\n",
       "      <td>10</td>\n",
       "      <td>0</td>\n",
       "    </tr>\n",
       "    <tr>\n",
       "      <th>2</th>\n",
       "      <td>1</td>\n",
       "      <td>17</td>\n",
       "      <td>25</td>\n",
       "    </tr>\n",
       "    <tr>\n",
       "      <th>3</th>\n",
       "      <td>25</td>\n",
       "      <td>22</td>\n",
       "      <td>0</td>\n",
       "    </tr>\n",
       "    <tr>\n",
       "      <th>4</th>\n",
       "      <td>8</td>\n",
       "      <td>31</td>\n",
       "      <td>0</td>\n",
       "    </tr>\n",
       "    <tr>\n",
       "      <th>5</th>\n",
       "      <td>0</td>\n",
       "      <td>8</td>\n",
       "      <td>21</td>\n",
       "    </tr>\n",
       "  </tbody>\n",
       "</table>\n",
       "</div>"
      ],
      "text/plain": [
       "SPENDING_SCORE_BRACKET  0-33  33-66  66-100\n",
       "K_means_cluster                            \n",
       "0                          0      5      12\n",
       "1                         15     10       0\n",
       "2                          1     17      25\n",
       "3                         25     22       0\n",
       "4                          8     31       0\n",
       "5                          0      8      21"
      ]
     },
     "execution_count": 27,
     "metadata": {},
     "output_type": "execute_result"
    }
   ],
   "source": [
    "# Nombre de clients dans chaque cluster\n",
    "pd.crosstab(finalDf['K_means_cluster'], finalDf['SPENDING_SCORE_BRACKET'])"
   ]
  },
  {
   "cell_type": "code",
   "execution_count": 28,
   "metadata": {},
   "outputs": [
    {
     "data": {
      "image/png": "[encoded data removed]",
      "text/plain": [
       "<Figure size 432x288 with 1 Axes>"
      ]
     },
     "metadata": {
      "needs_background": "light"
     },
     "output_type": "display_data"
    }
   ],
   "source": [
    "# On crée 6 \"individus fictifs\" (barycentres des clusters)\n",
    "# On trace un dendogramme pour représenter cela visuellement\n",
    "Z = cluster.hierarchy.linkage(centroides, method='ward', metric='euclidean')\n",
    "\n",
    "plt.figure()\n",
    "plt.title('Hierarchical Clustering Dendrogram', fontsize=18)\n",
    "plt.xlabel('sample index', fontsize=16)\n",
    "plt.ylabel('distance', fontsize=16)\n",
    "dn = cluster.hierarchy.dendrogram(Z, leaf_font_size=12, leaf_rotation=90.)"
   ]
  },
  {
   "cell_type": "code",
   "execution_count": 29,
   "metadata": {},
   "outputs": [
    {
     "data": {
      "text/plain": [
       "AgglomerativeClustering(n_clusters=3)"
      ]
     },
     "execution_count": 29,
     "metadata": {},
     "output_type": "execute_result"
    }
   ],
   "source": [
    "# On va maintenant limiter le nombre de clusters à 3 en \"coupant\" le dendogramme\n",
    "# On fait ainsi un HAC (Hierarchical Agglomerative Clustering)\n",
    "hac_cent = AgglomerativeClustering(n_clusters = 3, affinity = 'euclidean', linkage = 'ward')\n",
    "hac_cent.fit(centroides)"
   ]
  },
  {
   "cell_type": "markdown",
   "metadata": {},
   "source": [
    "On récupère pour chaque client le cluster assigné lors du K-means."
   ]
  },
  {
   "cell_type": "code",
   "execution_count": 30,
   "metadata": {},
   "outputs": [
    {
     "data": {
      "text/html": [
       "<div>\n",
       "<style scoped>\n",
       "    .dataframe tbody tr th:only-of-type {\n",
       "        vertical-align: middle;\n",
       "    }\n",
       "\n",
       "    .dataframe tbody tr th {\n",
       "        vertical-align: top;\n",
       "    }\n",
       "\n",
       "    .dataframe thead th {\n",
       "        text-align: right;\n",
       "    }\n",
       "</style>\n",
       "<table border=\"1\" class=\"dataframe\">\n",
       "  <thead>\n",
       "    <tr style=\"text-align: right;\">\n",
       "      <th></th>\n",
       "      <th>index</th>\n",
       "      <th>K-means_cent</th>\n",
       "    </tr>\n",
       "  </thead>\n",
       "  <tbody>\n",
       "    <tr>\n",
       "      <th>0</th>\n",
       "      <td>0</td>\n",
       "      <td>4</td>\n",
       "    </tr>\n",
       "    <tr>\n",
       "      <th>1</th>\n",
       "      <td>1</td>\n",
       "      <td>2</td>\n",
       "    </tr>\n",
       "    <tr>\n",
       "      <th>2</th>\n",
       "      <td>2</td>\n",
       "      <td>4</td>\n",
       "    </tr>\n",
       "    <tr>\n",
       "      <th>3</th>\n",
       "      <td>3</td>\n",
       "      <td>0</td>\n",
       "    </tr>\n",
       "    <tr>\n",
       "      <th>4</th>\n",
       "      <td>4</td>\n",
       "      <td>4</td>\n",
       "    </tr>\n",
       "    <tr>\n",
       "      <th>...</th>\n",
       "      <td>...</td>\n",
       "      <td>...</td>\n",
       "    </tr>\n",
       "    <tr>\n",
       "      <th>195</th>\n",
       "      <td>195</td>\n",
       "      <td>5</td>\n",
       "    </tr>\n",
       "    <tr>\n",
       "      <th>196</th>\n",
       "      <td>196</td>\n",
       "      <td>3</td>\n",
       "    </tr>\n",
       "    <tr>\n",
       "      <th>197</th>\n",
       "      <td>197</td>\n",
       "      <td>5</td>\n",
       "    </tr>\n",
       "    <tr>\n",
       "      <th>198</th>\n",
       "      <td>198</td>\n",
       "      <td>3</td>\n",
       "    </tr>\n",
       "    <tr>\n",
       "      <th>199</th>\n",
       "      <td>199</td>\n",
       "      <td>5</td>\n",
       "    </tr>\n",
       "  </tbody>\n",
       "</table>\n",
       "<p>200 rows × 2 columns</p>\n",
       "</div>"
      ],
      "text/plain": [
       "     index  K-means_cent\n",
       "0        0             4\n",
       "1        1             2\n",
       "2        2             4\n",
       "3        3             0\n",
       "4        4             4\n",
       "..     ...           ...\n",
       "195    195             5\n",
       "196    196             3\n",
       "197    197             5\n",
       "198    198             3\n",
       "199    199             5\n",
       "\n",
       "[200 rows x 2 columns]"
      ]
     },
     "execution_count": 30,
     "metadata": {},
     "output_type": "execute_result"
    }
   ],
   "source": [
    "kmeans_cent_df = pd.DataFrame(k_means_cent.labels_, columns = ['K-means_cent']).reset_index()\n",
    "kmeans_cent_df"
   ]
  },
  {
   "cell_type": "code",
   "execution_count": 31,
   "metadata": {},
   "outputs": [
    {
     "data": {
      "text/plain": [
       "3    47\n",
       "2    43\n",
       "4    39\n",
       "5    29\n",
       "1    25\n",
       "0    17\n",
       "Name: K-means_cent, dtype: int64"
      ]
     },
     "execution_count": 31,
     "metadata": {},
     "output_type": "execute_result"
    }
   ],
   "source": [
    "# Nombre de clients dans chaque cluster\n",
    "kmeans_cent_df['K-means_cent'].value_counts()"
   ]
  },
  {
   "cell_type": "code",
   "execution_count": 32,
   "metadata": {},
   "outputs": [
    {
     "data": {
      "text/plain": [
       "3    0.235\n",
       "2    0.215\n",
       "4    0.195\n",
       "5    0.145\n",
       "1    0.125\n",
       "0    0.085\n",
       "Name: K-means_cent, dtype: float64"
      ]
     },
     "execution_count": 32,
     "metadata": {},
     "output_type": "execute_result"
    }
   ],
   "source": [
    "# Part de clients dans chaque cluster\n",
    "kmeans_cent_df['K-means_cent'].value_counts(normalize=True)"
   ]
  },
  {
   "cell_type": "markdown",
   "metadata": {},
   "source": [
    "On récupère pour chaque client le cluster assigné lors de l'HAC."
   ]
  },
  {
   "cell_type": "code",
   "execution_count": 33,
   "metadata": {},
   "outputs": [
    {
     "data": {
      "text/html": [
       "<div>\n",
       "<style scoped>\n",
       "    .dataframe tbody tr th:only-of-type {\n",
       "        vertical-align: middle;\n",
       "    }\n",
       "\n",
       "    .dataframe tbody tr th {\n",
       "        vertical-align: top;\n",
       "    }\n",
       "\n",
       "    .dataframe thead th {\n",
       "        text-align: right;\n",
       "    }\n",
       "</style>\n",
       "<table border=\"1\" class=\"dataframe\">\n",
       "  <thead>\n",
       "    <tr style=\"text-align: right;\">\n",
       "      <th></th>\n",
       "      <th>index</th>\n",
       "      <th>Typologie</th>\n",
       "    </tr>\n",
       "  </thead>\n",
       "  <tbody>\n",
       "    <tr>\n",
       "      <th>1</th>\n",
       "      <td>1</td>\n",
       "      <td>0</td>\n",
       "    </tr>\n",
       "    <tr>\n",
       "      <th>3</th>\n",
       "      <td>3</td>\n",
       "      <td>0</td>\n",
       "    </tr>\n",
       "    <tr>\n",
       "      <th>4</th>\n",
       "      <td>4</td>\n",
       "      <td>0</td>\n",
       "    </tr>\n",
       "    <tr>\n",
       "      <th>0</th>\n",
       "      <td>0</td>\n",
       "      <td>1</td>\n",
       "    </tr>\n",
       "    <tr>\n",
       "      <th>2</th>\n",
       "      <td>2</td>\n",
       "      <td>1</td>\n",
       "    </tr>\n",
       "    <tr>\n",
       "      <th>5</th>\n",
       "      <td>5</td>\n",
       "      <td>2</td>\n",
       "    </tr>\n",
       "  </tbody>\n",
       "</table>\n",
       "</div>"
      ],
      "text/plain": [
       "   index  Typologie\n",
       "1      1          0\n",
       "3      3          0\n",
       "4      4          0\n",
       "0      0          1\n",
       "2      2          1\n",
       "5      5          2"
      ]
     },
     "execution_count": 33,
     "metadata": {},
     "output_type": "execute_result"
    }
   ],
   "source": [
    "hac_cent_df = pd.DataFrame(hac_cent.labels_, columns = ['Typologie']).reset_index()\n",
    "hac_cent_df.sort_values(['Typologie'])"
   ]
  },
  {
   "cell_type": "code",
   "execution_count": 34,
   "metadata": {},
   "outputs": [],
   "source": [
    "cluster_cent = pd.merge(kmeans_cent_df, hac_cent_df, left_on=['K-means_cent'], right_on=['index'], how='left')\n",
    "cluster_cent = cluster_cent.drop(['K-means_cent','index_y'], axis =1)"
   ]
  },
  {
   "cell_type": "code",
   "execution_count": 35,
   "metadata": {},
   "outputs": [
    {
     "name": "stdout",
     "output_type": "stream",
     "text": [
      "0    111\n",
      "1     60\n",
      "2     29\n",
      "Name: Typologie, dtype: int64\n",
      "0    0.555\n",
      "1    0.300\n",
      "2    0.145\n",
      "Name: Typologie, dtype: float64\n"
     ]
    }
   ],
   "source": [
    "# Nombre et part de clients dans chaque cluster\n",
    "print(cluster_cent['Typologie'].value_counts())\n",
    "print(cluster_cent['Typologie'].value_counts(normalize=True))"
   ]
  },
  {
   "cell_type": "code",
   "execution_count": 36,
   "metadata": {},
   "outputs": [
    {
     "data": {
      "text/html": [
       "<div>\n",
       "<style scoped>\n",
       "    .dataframe tbody tr th:only-of-type {\n",
       "        vertical-align: middle;\n",
       "    }\n",
       "\n",
       "    .dataframe tbody tr th {\n",
       "        vertical-align: top;\n",
       "    }\n",
       "\n",
       "    .dataframe thead th {\n",
       "        text-align: right;\n",
       "    }\n",
       "</style>\n",
       "<table border=\"1\" class=\"dataframe\">\n",
       "  <thead>\n",
       "    <tr style=\"text-align: right;\">\n",
       "      <th></th>\n",
       "      <th>CUSTOMER_ID</th>\n",
       "      <th>AGE</th>\n",
       "      <th>ANNUAL_INCOME</th>\n",
       "      <th>SPENDING_SCORE</th>\n",
       "      <th>FEMALE</th>\n",
       "      <th>SPENDING_SCORE_BRACKET</th>\n",
       "      <th>index_x</th>\n",
       "      <th>Typologie</th>\n",
       "    </tr>\n",
       "  </thead>\n",
       "  <tbody>\n",
       "    <tr>\n",
       "      <th>0</th>\n",
       "      <td>1</td>\n",
       "      <td>19</td>\n",
       "      <td>15</td>\n",
       "      <td>39</td>\n",
       "      <td>0</td>\n",
       "      <td>33-66</td>\n",
       "      <td>0</td>\n",
       "      <td>0</td>\n",
       "    </tr>\n",
       "    <tr>\n",
       "      <th>1</th>\n",
       "      <td>2</td>\n",
       "      <td>21</td>\n",
       "      <td>15</td>\n",
       "      <td>81</td>\n",
       "      <td>0</td>\n",
       "      <td>66-100</td>\n",
       "      <td>1</td>\n",
       "      <td>1</td>\n",
       "    </tr>\n",
       "    <tr>\n",
       "      <th>2</th>\n",
       "      <td>3</td>\n",
       "      <td>20</td>\n",
       "      <td>16</td>\n",
       "      <td>6</td>\n",
       "      <td>1</td>\n",
       "      <td>0-33</td>\n",
       "      <td>2</td>\n",
       "      <td>0</td>\n",
       "    </tr>\n",
       "    <tr>\n",
       "      <th>3</th>\n",
       "      <td>4</td>\n",
       "      <td>23</td>\n",
       "      <td>16</td>\n",
       "      <td>77</td>\n",
       "      <td>1</td>\n",
       "      <td>66-100</td>\n",
       "      <td>3</td>\n",
       "      <td>1</td>\n",
       "    </tr>\n",
       "    <tr>\n",
       "      <th>4</th>\n",
       "      <td>5</td>\n",
       "      <td>31</td>\n",
       "      <td>17</td>\n",
       "      <td>40</td>\n",
       "      <td>1</td>\n",
       "      <td>33-66</td>\n",
       "      <td>4</td>\n",
       "      <td>0</td>\n",
       "    </tr>\n",
       "  </tbody>\n",
       "</table>\n",
       "</div>"
      ],
      "text/plain": [
       "   CUSTOMER_ID  AGE  ANNUAL_INCOME  SPENDING_SCORE  FEMALE  \\\n",
       "0            1   19             15              39       0   \n",
       "1            2   21             15              81       0   \n",
       "2            3   20             16               6       1   \n",
       "3            4   23             16              77       1   \n",
       "4            5   31             17              40       1   \n",
       "\n",
       "  SPENDING_SCORE_BRACKET  index_x  Typologie  \n",
       "0                  33-66        0          0  \n",
       "1                 66-100        1          1  \n",
       "2                   0-33        2          0  \n",
       "3                 66-100        3          1  \n",
       "4                  33-66        4          0  "
      ]
     },
     "execution_count": 36,
     "metadata": {},
     "output_type": "execute_result"
    }
   ],
   "source": [
    "# Jointure finale\n",
    "typologie = pd.merge(left=data, right=cluster_cent, how='inner', left_index=True, right_index=True)\n",
    "typologie.head()"
   ]
  },
  {
   "cell_type": "markdown",
   "metadata": {},
   "source": [
    "## 5) PORTRAITS-ROBOTS"
   ]
  },
  {
   "cell_type": "code",
   "execution_count": 37,
   "metadata": {},
   "outputs": [
    {
     "data": {
      "text/html": [
       "<div>\n",
       "<style scoped>\n",
       "    .dataframe tbody tr th:only-of-type {\n",
       "        vertical-align: middle;\n",
       "    }\n",
       "\n",
       "    .dataframe tbody tr th {\n",
       "        vertical-align: top;\n",
       "    }\n",
       "\n",
       "    .dataframe thead th {\n",
       "        text-align: right;\n",
       "    }\n",
       "</style>\n",
       "<table border=\"1\" class=\"dataframe\">\n",
       "  <thead>\n",
       "    <tr style=\"text-align: right;\">\n",
       "      <th>Typologie</th>\n",
       "      <th>0</th>\n",
       "      <th>1</th>\n",
       "      <th>2</th>\n",
       "    </tr>\n",
       "  </thead>\n",
       "  <tbody>\n",
       "    <tr>\n",
       "      <th>FEMALE</th>\n",
       "      <td>0.540541</td>\n",
       "      <td>0.800000</td>\n",
       "      <td>0.137931</td>\n",
       "    </tr>\n",
       "    <tr>\n",
       "      <th>AGE</th>\n",
       "      <td>47.441441</td>\n",
       "      <td>26.733333</td>\n",
       "      <td>31.034483</td>\n",
       "    </tr>\n",
       "    <tr>\n",
       "      <th>ANNUAL_INCOME</th>\n",
       "      <td>58.855856</td>\n",
       "      <td>52.416667</td>\n",
       "      <td>83.931034</td>\n",
       "    </tr>\n",
       "    <tr>\n",
       "      <th>SPENDING_SCORE</th>\n",
       "      <td>33.180180</td>\n",
       "      <td>69.866667</td>\n",
       "      <td>74.655172</td>\n",
       "    </tr>\n",
       "  </tbody>\n",
       "</table>\n",
       "</div>"
      ],
      "text/plain": [
       "Typologie               0          1          2\n",
       "FEMALE           0.540541   0.800000   0.137931\n",
       "AGE             47.441441  26.733333  31.034483\n",
       "ANNUAL_INCOME   58.855856  52.416667  83.931034\n",
       "SPENDING_SCORE  33.180180  69.866667  74.655172"
      ]
     },
     "execution_count": 37,
     "metadata": {},
     "output_type": "execute_result"
    }
   ],
   "source": [
    "# Pour chaque cluster, on calcule la moyenne des variables quantitatives.\n",
    "# Des \"portraits-robots\" vont ainsi se préciser.\n",
    "# Voici le portrait-robot de la classification mixte :\n",
    "\n",
    "stats = typologie.groupby(['Typologie'])[[\"FEMALE\",\"AGE\",\"ANNUAL_INCOME\",\"SPENDING_SCORE\"]].mean()\n",
    "stats.T"
   ]
  },
  {
   "cell_type": "markdown",
   "metadata": {},
   "source": [
    "- 1er cluster : clientèle plus âgée, peu dépensière\n",
    "\n",
    "- 2e cluster : clientèle très féminine, avec un âge et un revenu annuel plus bas\n",
    "\n",
    "- 3e cluster : clientèle très masculine, au revenu annuel très élevé"
   ]
  },
  {
   "cell_type": "markdown",
   "metadata": {},
   "source": [
    "Au regard de nos ambitions et de notre stratégie d'entreprise, il est plus pertinent de cibler les 2e et 3e clusters, le 1er cluster étant moins attractif en termes de dépenses potentielles.\n",
    "\n",
    "HéloGlow étant une entreprise de cosmétiques, nous nous adresserons principalement au 2e cluster (plus féminin). Nous pourrons également proposer une offre complémentaire ciblant les hommes au pouvoir d'achat élevé."
   ]
  }
 ],
 "metadata": {
  "kernelspec": {
   "display_name": "Python 3 (ipykernel)",
   "language": "python",
   "name": "python3"
  },
  "language_info": {
   "codemirror_mode": {
    "name": "ipython",
    "version": 3
   },
   "file_extension": ".py",
   "mimetype": "text/x-python",
   "name": "python",
   "nbconvert_exporter": "python",
   "pygments_lexer": "ipython3",
   "version": "3.9.12"
  }
 },
 "nbformat": 4,
 "nbformat_minor": 4
}
